{
 "cells": [
  {
   "cell_type": "code",
   "execution_count": 1,
   "metadata": {},
   "outputs": [
    {
     "name": "stdout",
     "output_type": "stream",
     "text": [
      "Requirement already satisfied: ipython-sql in /home/jupyterlab/conda/envs/python/lib/python3.6/site-packages (0.3.9)\n",
      "Requirement already satisfied: ipython>=1.0 in /home/jupyterlab/conda/envs/python/lib/python3.6/site-packages (from ipython-sql) (7.16.1)\n",
      "Requirement already satisfied: sqlparse in /home/jupyterlab/conda/envs/python/lib/python3.6/site-packages (from ipython-sql) (0.4.1)\n",
      "Requirement already satisfied: prettytable in /home/jupyterlab/conda/envs/python/lib/python3.6/site-packages (from ipython-sql) (2.0.0)\n",
      "Requirement already satisfied: ipython-genutils>=0.1.0 in /home/jupyterlab/conda/envs/python/lib/python3.6/site-packages (from ipython-sql) (0.2.0)\n",
      "Requirement already satisfied: sqlalchemy>=0.6.7 in /home/jupyterlab/conda/envs/python/lib/python3.6/site-packages (from ipython-sql) (1.3.20)\n",
      "Requirement already satisfied: six in /home/jupyterlab/conda/envs/python/lib/python3.6/site-packages (from ipython-sql) (1.15.0)\n",
      "Requirement already satisfied: decorator in /home/jupyterlab/conda/envs/python/lib/python3.6/site-packages (from ipython>=1.0->ipython-sql) (4.4.2)\n",
      "Requirement already satisfied: backcall in /home/jupyterlab/conda/envs/python/lib/python3.6/site-packages (from ipython>=1.0->ipython-sql) (0.2.0)\n",
      "Requirement already satisfied: prompt-toolkit!=3.0.0,!=3.0.1,<3.1.0,>=2.0.0 in /home/jupyterlab/conda/envs/python/lib/python3.6/site-packages (from ipython>=1.0->ipython-sql) (3.0.8)\n",
      "Requirement already satisfied: pexpect; sys_platform != \"win32\" in /home/jupyterlab/conda/envs/python/lib/python3.6/site-packages (from ipython>=1.0->ipython-sql) (4.8.0)\n",
      "Requirement already satisfied: pygments in /home/jupyterlab/conda/envs/python/lib/python3.6/site-packages (from ipython>=1.0->ipython-sql) (2.7.3)\n",
      "Requirement already satisfied: traitlets>=4.2 in /home/jupyterlab/conda/envs/python/lib/python3.6/site-packages (from ipython>=1.0->ipython-sql) (4.3.3)\n",
      "Requirement already satisfied: jedi>=0.10 in /home/jupyterlab/conda/envs/python/lib/python3.6/site-packages (from ipython>=1.0->ipython-sql) (0.17.2)\n",
      "Requirement already satisfied: pickleshare in /home/jupyterlab/conda/envs/python/lib/python3.6/site-packages (from ipython>=1.0->ipython-sql) (0.7.5)\n",
      "Requirement already satisfied: setuptools>=18.5 in /home/jupyterlab/conda/envs/python/lib/python3.6/site-packages (from ipython>=1.0->ipython-sql) (49.6.0.post20201009)\n",
      "Requirement already satisfied: wcwidth in /home/jupyterlab/conda/envs/python/lib/python3.6/site-packages (from prettytable->ipython-sql) (0.2.5)\n",
      "Requirement already satisfied: ptyprocess>=0.5 in /home/jupyterlab/conda/envs/python/lib/python3.6/site-packages (from pexpect; sys_platform != \"win32\"->ipython>=1.0->ipython-sql) (0.6.0)\n",
      "Requirement already satisfied: parso<0.8.0,>=0.7.0 in /home/jupyterlab/conda/envs/python/lib/python3.6/site-packages (from jedi>=0.10->ipython>=1.0->ipython-sql) (0.7.1)\n"
     ]
    }
   ],
   "source": [
    "!pip install ipython-sql"
   ]
  },
  {
   "cell_type": "code",
   "execution_count": 2,
   "metadata": {},
   "outputs": [
    {
     "data": {
      "text/plain": [
       "'Connected: @None'"
      ]
     },
     "execution_count": 2,
     "metadata": {},
     "output_type": "execute_result"
    }
   ],
   "source": [
    "%reload_ext sql\n",
    "\n",
    "%sql sqlite://"
   ]
  },
  {
   "cell_type": "code",
   "execution_count": 3,
   "metadata": {},
   "outputs": [
    {
     "name": "stdout",
     "output_type": "stream",
     "text": [
      " * sqlite://\n",
      "Done.\n"
     ]
    },
    {
     "data": {
      "text/plain": [
       "[]"
      ]
     },
     "execution_count": 3,
     "metadata": {},
     "output_type": "execute_result"
    }
   ],
   "source": [
    "%%sql\n",
    "\n",
    "CREATE TABLE athletes (\n",
    "   id INTEGER, \n",
    "   name TEXT, \n",
    "   age INTEGER,\n",
    "   rating INTEGER\n",
    ");"
   ]
  },
  {
   "cell_type": "code",
   "execution_count": 5,
   "metadata": {},
   "outputs": [
    {
     "name": "stdout",
     "output_type": "stream",
     "text": [
      " * sqlite://\n",
      "1 rows affected.\n",
      "1 rows affected.\n",
      "1 rows affected.\n",
      "1 rows affected.\n",
      "1 rows affected.\n",
      "1 rows affected.\n",
      "1 rows affected.\n"
     ]
    },
    {
     "data": {
      "text/plain": [
       "[]"
      ]
     },
     "execution_count": 5,
     "metadata": {},
     "output_type": "execute_result"
    }
   ],
   "source": [
    "%%sql\n",
    "\n",
    "\n",
    "INSERT INTO athletes (id, name, age, rating) \n",
    "VALUES (1, 'Nicol David', 36, 85.59);\n",
    "\n",
    "INSERT INTO athletes (id, name, age, rating) \n",
    "VALUES (2, 'Syazlin Zulkifli', 38, 88.76); \n",
    "\n",
    "INSERT INTO athletes (id, name, age, rating) \n",
    "VALUES (3, 'Lee Chong Wei', 36, 92.24); \n",
    "\n",
    "INSERT INTO athletes (id, name, age, rating) \n",
    "VALUES (4, 'Dollah Salleh', 46, 86.22);\n",
    "\n",
    "INSERT INTO athletes (id, name, age, rating) \n",
    "VALUES (5, 'Wong Choong Hann', 47, 85.59);\n",
    "\n",
    "INSERT INTO athletes (id, name, age, rating) \n",
    "VALUES (6, 'Azizulhasni Awang', 36, 85.59);\n",
    "\n",
    "INSERT INTO athletes (id, name, age, rating) \n",
    "VALUES (7, 'Mirnawan Nawawi', 46, 86.22);"
   ]
  },
  {
   "cell_type": "code",
   "execution_count": 6,
   "metadata": {},
   "outputs": [
    {
     "name": "stdout",
     "output_type": "stream",
     "text": [
      " * sqlite://\n",
      "Done.\n"
     ]
    },
    {
     "data": {
      "text/html": [
       "<table>\n",
       "    <thead>\n",
       "        <tr>\n",
       "            <th>id</th>\n",
       "            <th>name</th>\n",
       "            <th>age</th>\n",
       "            <th>rating</th>\n",
       "        </tr>\n",
       "    </thead>\n",
       "    <tbody>\n",
       "        <tr>\n",
       "            <td>1</td>\n",
       "            <td>Nicol David</td>\n",
       "            <td>36</td>\n",
       "            <td>85.59</td>\n",
       "        </tr>\n",
       "        <tr>\n",
       "            <td>2</td>\n",
       "            <td>Syazlin Zulkifli</td>\n",
       "            <td>38</td>\n",
       "            <td>88.76</td>\n",
       "        </tr>\n",
       "        <tr>\n",
       "            <td>3</td>\n",
       "            <td>Lee Chong Wei</td>\n",
       "            <td>36</td>\n",
       "            <td>92.24</td>\n",
       "        </tr>\n",
       "        <tr>\n",
       "            <td>4</td>\n",
       "            <td>Dollah Salleh</td>\n",
       "            <td>46</td>\n",
       "            <td>86.22</td>\n",
       "        </tr>\n",
       "        <tr>\n",
       "            <td>5</td>\n",
       "            <td>Wong Choong Hann</td>\n",
       "            <td>47</td>\n",
       "            <td>85.59</td>\n",
       "        </tr>\n",
       "        <tr>\n",
       "            <td>6</td>\n",
       "            <td>Azizulhasni Awang</td>\n",
       "            <td>36</td>\n",
       "            <td>85.59</td>\n",
       "        </tr>\n",
       "        <tr>\n",
       "            <td>7</td>\n",
       "            <td>Mirnawan Nawawi</td>\n",
       "            <td>46</td>\n",
       "            <td>86.22</td>\n",
       "        </tr>\n",
       "    </tbody>\n",
       "</table>"
      ],
      "text/plain": [
       "[(1, 'Nicol David', 36, 85.59),\n",
       " (2, 'Syazlin Zulkifli', 38, 88.76),\n",
       " (3, 'Lee Chong Wei', 36, 92.24),\n",
       " (4, 'Dollah Salleh', 46, 86.22),\n",
       " (5, 'Wong Choong Hann', 47, 85.59),\n",
       " (6, 'Azizulhasni Awang', 36, 85.59),\n",
       " (7, 'Mirnawan Nawawi', 46, 86.22)]"
      ]
     },
     "execution_count": 6,
     "metadata": {},
     "output_type": "execute_result"
    }
   ],
   "source": [
    "%%sql\n",
    "\n",
    "select * from athletes;"
   ]
  },
  {
   "cell_type": "code",
   "execution_count": 7,
   "metadata": {},
   "outputs": [
    {
     "name": "stdout",
     "output_type": "stream",
     "text": [
      " * sqlite://\n",
      "Done.\n",
      "Done.\n"
     ]
    },
    {
     "data": {
      "text/html": [
       "<table>\n",
       "    <thead>\n",
       "        <tr>\n",
       "            <th>id</th>\n",
       "            <th>name</th>\n",
       "            <th>age</th>\n",
       "            <th>rating</th>\n",
       "            <th>sport</th>\n",
       "        </tr>\n",
       "    </thead>\n",
       "    <tbody>\n",
       "        <tr>\n",
       "            <td>1</td>\n",
       "            <td>Nicol David</td>\n",
       "            <td>36</td>\n",
       "            <td>85.59</td>\n",
       "            <td>None</td>\n",
       "        </tr>\n",
       "        <tr>\n",
       "            <td>2</td>\n",
       "            <td>Syazlin Zulkifli</td>\n",
       "            <td>38</td>\n",
       "            <td>88.76</td>\n",
       "            <td>None</td>\n",
       "        </tr>\n",
       "        <tr>\n",
       "            <td>3</td>\n",
       "            <td>Lee Chong Wei</td>\n",
       "            <td>36</td>\n",
       "            <td>92.24</td>\n",
       "            <td>None</td>\n",
       "        </tr>\n",
       "        <tr>\n",
       "            <td>4</td>\n",
       "            <td>Dollah Salleh</td>\n",
       "            <td>46</td>\n",
       "            <td>86.22</td>\n",
       "            <td>None</td>\n",
       "        </tr>\n",
       "        <tr>\n",
       "            <td>5</td>\n",
       "            <td>Wong Choong Hann</td>\n",
       "            <td>47</td>\n",
       "            <td>85.59</td>\n",
       "            <td>None</td>\n",
       "        </tr>\n",
       "        <tr>\n",
       "            <td>6</td>\n",
       "            <td>Azizulhasni Awang</td>\n",
       "            <td>36</td>\n",
       "            <td>85.59</td>\n",
       "            <td>None</td>\n",
       "        </tr>\n",
       "        <tr>\n",
       "            <td>7</td>\n",
       "            <td>Mirnawan Nawawi</td>\n",
       "            <td>46</td>\n",
       "            <td>86.22</td>\n",
       "            <td>None</td>\n",
       "        </tr>\n",
       "    </tbody>\n",
       "</table>"
      ],
      "text/plain": [
       "[(1, 'Nicol David', 36, 85.59, None),\n",
       " (2, 'Syazlin Zulkifli', 38, 88.76, None),\n",
       " (3, 'Lee Chong Wei', 36, 92.24, None),\n",
       " (4, 'Dollah Salleh', 46, 86.22, None),\n",
       " (5, 'Wong Choong Hann', 47, 85.59, None),\n",
       " (6, 'Azizulhasni Awang', 36, 85.59, None),\n",
       " (7, 'Mirnawan Nawawi', 46, 86.22, None)]"
      ]
     },
     "execution_count": 7,
     "metadata": {},
     "output_type": "execute_result"
    }
   ],
   "source": [
    "# Adding a new column\n",
    "\n",
    "%%sql\n",
    "\n",
    "ALTER TABLE athletes \n",
    "ADD COLUMN sport TEXT; \n",
    " \n",
    "SELECT * FROM athletes; "
   ]
  },
  {
   "cell_type": "code",
   "execution_count": 8,
   "metadata": {},
   "outputs": [
    {
     "name": "stdout",
     "output_type": "stream",
     "text": [
      " * sqlite://\n",
      "1 rows affected.\n",
      "1 rows affected.\n",
      "1 rows affected.\n",
      "1 rows affected.\n",
      "1 rows affected.\n",
      "1 rows affected.\n",
      "Done.\n"
     ]
    },
    {
     "data": {
      "text/html": [
       "<table>\n",
       "    <thead>\n",
       "        <tr>\n",
       "            <th>id</th>\n",
       "            <th>name</th>\n",
       "            <th>age</th>\n",
       "            <th>rating</th>\n",
       "            <th>sport</th>\n",
       "        </tr>\n",
       "    </thead>\n",
       "    <tbody>\n",
       "        <tr>\n",
       "            <td>1</td>\n",
       "            <td>Nicol David</td>\n",
       "            <td>36</td>\n",
       "            <td>85.59</td>\n",
       "            <td>squash</td>\n",
       "        </tr>\n",
       "        <tr>\n",
       "            <td>2</td>\n",
       "            <td>Syazlin Zulkifli</td>\n",
       "            <td>38</td>\n",
       "            <td>88.76</td>\n",
       "            <td>bowling</td>\n",
       "        </tr>\n",
       "        <tr>\n",
       "            <td>3</td>\n",
       "            <td>Lee Chong Wei</td>\n",
       "            <td>36</td>\n",
       "            <td>92.24</td>\n",
       "            <td>badminton</td>\n",
       "        </tr>\n",
       "        <tr>\n",
       "            <td>4</td>\n",
       "            <td>Dollah Salleh</td>\n",
       "            <td>46</td>\n",
       "            <td>86.22</td>\n",
       "            <td>None</td>\n",
       "        </tr>\n",
       "        <tr>\n",
       "            <td>5</td>\n",
       "            <td>Wong Choong Hann</td>\n",
       "            <td>47</td>\n",
       "            <td>85.59</td>\n",
       "            <td>badminton</td>\n",
       "        </tr>\n",
       "        <tr>\n",
       "            <td>6</td>\n",
       "            <td>Azizulhasni Awang</td>\n",
       "            <td>36</td>\n",
       "            <td>85.59</td>\n",
       "            <td>cycling</td>\n",
       "        </tr>\n",
       "        <tr>\n",
       "            <td>7</td>\n",
       "            <td>Mirnawan Nawawi</td>\n",
       "            <td>46</td>\n",
       "            <td>86.22</td>\n",
       "            <td>hockey</td>\n",
       "        </tr>\n",
       "    </tbody>\n",
       "</table>"
      ],
      "text/plain": [
       "[(1, 'Nicol David', 36, 85.59, 'squash'),\n",
       " (2, 'Syazlin Zulkifli', 38, 88.76, 'bowling'),\n",
       " (3, 'Lee Chong Wei', 36, 92.24, 'badminton'),\n",
       " (4, 'Dollah Salleh', 46, 86.22, None),\n",
       " (5, 'Wong Choong Hann', 47, 85.59, 'badminton'),\n",
       " (6, 'Azizulhasni Awang', 36, 85.59, 'cycling'),\n",
       " (7, 'Mirnawan Nawawi', 46, 86.22, 'hockey')]"
      ]
     },
     "execution_count": 8,
     "metadata": {},
     "output_type": "execute_result"
    }
   ],
   "source": [
    "# inserting values into the new column\n",
    "\n",
    "%%sql\n",
    "\n",
    "UPDATE athletes \n",
    "SET sport = 'squash' \n",
    "WHERE id = 1;\n",
    "\n",
    "UPDATE athletes \n",
    "SET sport = 'bowling' \n",
    "WHERE id = 2;\n",
    "\n",
    "UPDATE athletes \n",
    "SET sport = 'badminton' \n",
    "WHERE id = 3;\n",
    "\n",
    "UPDATE athletes \n",
    "SET sport = 'badminton' \n",
    "WHERE id = 5;\n",
    "\n",
    "UPDATE athletes \n",
    "SET sport = 'cycling' \n",
    "WHERE id = 6;\n",
    "\n",
    "UPDATE athletes \n",
    "SET sport = 'hockey' \n",
    "WHERE id = 7;\n",
    "\n",
    "\n",
    "\n",
    "SELECT * FROM athletes;\n"
   ]
  },
  {
   "cell_type": "code",
   "execution_count": 9,
   "metadata": {},
   "outputs": [
    {
     "name": "stdout",
     "output_type": "stream",
     "text": [
      " * sqlite://\n",
      "Done.\n"
     ]
    },
    {
     "data": {
      "text/html": [
       "<table>\n",
       "    <thead>\n",
       "        <tr>\n",
       "            <th>id</th>\n",
       "            <th>name</th>\n",
       "            <th>age</th>\n",
       "            <th>rating</th>\n",
       "            <th>sport</th>\n",
       "        </tr>\n",
       "    </thead>\n",
       "    <tbody>\n",
       "        <tr>\n",
       "            <td>1</td>\n",
       "            <td>Nicol David</td>\n",
       "            <td>36</td>\n",
       "            <td>85.59</td>\n",
       "            <td>squash</td>\n",
       "        </tr>\n",
       "        <tr>\n",
       "            <td>2</td>\n",
       "            <td>Syazlin Zulkifli</td>\n",
       "            <td>38</td>\n",
       "            <td>88.76</td>\n",
       "            <td>bowling</td>\n",
       "        </tr>\n",
       "        <tr>\n",
       "            <td>3</td>\n",
       "            <td>Lee Chong Wei</td>\n",
       "            <td>36</td>\n",
       "            <td>92.24</td>\n",
       "            <td>badminton</td>\n",
       "        </tr>\n",
       "        <tr>\n",
       "            <td>5</td>\n",
       "            <td>Wong Choong Hann</td>\n",
       "            <td>47</td>\n",
       "            <td>85.59</td>\n",
       "            <td>badminton</td>\n",
       "        </tr>\n",
       "        <tr>\n",
       "            <td>6</td>\n",
       "            <td>Azizulhasni Awang</td>\n",
       "            <td>36</td>\n",
       "            <td>85.59</td>\n",
       "            <td>cycling</td>\n",
       "        </tr>\n",
       "        <tr>\n",
       "            <td>7</td>\n",
       "            <td>Mirnawan Nawawi</td>\n",
       "            <td>46</td>\n",
       "            <td>86.22</td>\n",
       "            <td>hockey</td>\n",
       "        </tr>\n",
       "    </tbody>\n",
       "</table>"
      ],
      "text/plain": [
       "[(1, 'Nicol David', 36, 85.59, 'squash'),\n",
       " (2, 'Syazlin Zulkifli', 38, 88.76, 'bowling'),\n",
       " (3, 'Lee Chong Wei', 36, 92.24, 'badminton'),\n",
       " (5, 'Wong Choong Hann', 47, 85.59, 'badminton'),\n",
       " (6, 'Azizulhasni Awang', 36, 85.59, 'cycling'),\n",
       " (7, 'Mirnawan Nawawi', 46, 86.22, 'hockey')]"
      ]
     },
     "execution_count": 9,
     "metadata": {},
     "output_type": "execute_result"
    }
   ],
   "source": [
    "# Selecting rows with no missing values for the sport column\n",
    "\n",
    "\n",
    "%%sql\n",
    "\n",
    "SELECT *\n",
    "FROM athletes \n",
    "WHERE sport IS NOT NULL;"
   ]
  },
  {
   "cell_type": "code",
   "execution_count": 10,
   "metadata": {},
   "outputs": [
    {
     "name": "stdout",
     "output_type": "stream",
     "text": [
      " * sqlite://\n",
      "1 rows affected.\n"
     ]
    },
    {
     "data": {
      "text/plain": [
       "[]"
      ]
     },
     "execution_count": 10,
     "metadata": {},
     "output_type": "execute_result"
    }
   ],
   "source": [
    "# Deleting rows with missing values on the sport column\n",
    "\n",
    "%%sql\n",
    "\n",
    "DELETE FROM athletes \n",
    "WHERE sport IS NULL;"
   ]
  },
  {
   "cell_type": "code",
   "execution_count": 11,
   "metadata": {},
   "outputs": [
    {
     "name": "stdout",
     "output_type": "stream",
     "text": [
      " * sqlite://\n",
      "Done.\n"
     ]
    },
    {
     "data": {
      "text/html": [
       "<table>\n",
       "    <thead>\n",
       "        <tr>\n",
       "            <th>id</th>\n",
       "            <th>name</th>\n",
       "            <th>age</th>\n",
       "            <th>rating</th>\n",
       "            <th>sport</th>\n",
       "        </tr>\n",
       "    </thead>\n",
       "    <tbody>\n",
       "        <tr>\n",
       "            <td>1</td>\n",
       "            <td>Nicol David</td>\n",
       "            <td>36</td>\n",
       "            <td>85.59</td>\n",
       "            <td>squash</td>\n",
       "        </tr>\n",
       "        <tr>\n",
       "            <td>2</td>\n",
       "            <td>Syazlin Zulkifli</td>\n",
       "            <td>38</td>\n",
       "            <td>88.76</td>\n",
       "            <td>bowling</td>\n",
       "        </tr>\n",
       "        <tr>\n",
       "            <td>3</td>\n",
       "            <td>Lee Chong Wei</td>\n",
       "            <td>36</td>\n",
       "            <td>92.24</td>\n",
       "            <td>badminton</td>\n",
       "        </tr>\n",
       "        <tr>\n",
       "            <td>5</td>\n",
       "            <td>Wong Choong Hann</td>\n",
       "            <td>47</td>\n",
       "            <td>85.59</td>\n",
       "            <td>badminton</td>\n",
       "        </tr>\n",
       "        <tr>\n",
       "            <td>6</td>\n",
       "            <td>Azizulhasni Awang</td>\n",
       "            <td>36</td>\n",
       "            <td>85.59</td>\n",
       "            <td>cycling</td>\n",
       "        </tr>\n",
       "        <tr>\n",
       "            <td>7</td>\n",
       "            <td>Mirnawan Nawawi</td>\n",
       "            <td>46</td>\n",
       "            <td>86.22</td>\n",
       "            <td>hockey</td>\n",
       "        </tr>\n",
       "    </tbody>\n",
       "</table>"
      ],
      "text/plain": [
       "[(1, 'Nicol David', 36, 85.59, 'squash'),\n",
       " (2, 'Syazlin Zulkifli', 38, 88.76, 'bowling'),\n",
       " (3, 'Lee Chong Wei', 36, 92.24, 'badminton'),\n",
       " (5, 'Wong Choong Hann', 47, 85.59, 'badminton'),\n",
       " (6, 'Azizulhasni Awang', 36, 85.59, 'cycling'),\n",
       " (7, 'Mirnawan Nawawi', 46, 86.22, 'hockey')]"
      ]
     },
     "execution_count": 11,
     "metadata": {},
     "output_type": "execute_result"
    }
   ],
   "source": [
    "# Row 4 is deleted\n",
    "\n",
    "%%sql\n",
    "\n",
    "select * from athletes;"
   ]
  },
  {
   "cell_type": "code",
   "execution_count": 12,
   "metadata": {},
   "outputs": [
    {
     "name": "stdout",
     "output_type": "stream",
     "text": [
      " * sqlite://\n",
      "Done.\n"
     ]
    },
    {
     "data": {
      "text/html": [
       "<table>\n",
       "    <thead>\n",
       "        <tr>\n",
       "            <th>id_no</th>\n",
       "        </tr>\n",
       "    </thead>\n",
       "    <tbody>\n",
       "        <tr>\n",
       "            <td>1</td>\n",
       "        </tr>\n",
       "        <tr>\n",
       "            <td>2</td>\n",
       "        </tr>\n",
       "        <tr>\n",
       "            <td>3</td>\n",
       "        </tr>\n",
       "    </tbody>\n",
       "</table>"
      ],
      "text/plain": [
       "[(1,), (2,), (3,)]"
      ]
     },
     "execution_count": 12,
     "metadata": {},
     "output_type": "execute_result"
    }
   ],
   "source": [
    "# Changing the name of id column, and the result is limited to 3 rows.\n",
    "\n",
    "%%sql\n",
    "\n",
    "SELECT id AS 'id_no' FROM athletes\n",
    "Limit 3;"
   ]
  },
  {
   "cell_type": "code",
   "execution_count": 13,
   "metadata": {},
   "outputs": [
    {
     "name": "stdout",
     "output_type": "stream",
     "text": [
      " * sqlite://\n",
      "Done.\n"
     ]
    },
    {
     "data": {
      "text/html": [
       "<table>\n",
       "    <thead>\n",
       "        <tr>\n",
       "            <th>age</th>\n",
       "        </tr>\n",
       "    </thead>\n",
       "    <tbody>\n",
       "        <tr>\n",
       "            <td>36</td>\n",
       "        </tr>\n",
       "        <tr>\n",
       "            <td>38</td>\n",
       "        </tr>\n",
       "        <tr>\n",
       "            <td>47</td>\n",
       "        </tr>\n",
       "        <tr>\n",
       "            <td>46</td>\n",
       "        </tr>\n",
       "    </tbody>\n",
       "</table>"
      ],
      "text/plain": [
       "[(36,), (38,), (47,), (46,)]"
      ]
     },
     "execution_count": 13,
     "metadata": {},
     "output_type": "execute_result"
    }
   ],
   "source": [
    "# Select all distinctive values of age column, having no duplicates\n",
    "\n",
    "%%sql\n",
    "\n",
    "SELECT DISTINCT age FROM athletes;"
   ]
  },
  {
   "cell_type": "code",
   "execution_count": 14,
   "metadata": {},
   "outputs": [
    {
     "name": "stdout",
     "output_type": "stream",
     "text": [
      " * sqlite://\n",
      "Done.\n"
     ]
    },
    {
     "data": {
      "text/html": [
       "<table>\n",
       "    <thead>\n",
       "        <tr>\n",
       "            <th>id</th>\n",
       "            <th>name</th>\n",
       "            <th>age</th>\n",
       "            <th>rating</th>\n",
       "            <th>sport</th>\n",
       "        </tr>\n",
       "    </thead>\n",
       "    <tbody>\n",
       "        <tr>\n",
       "            <td>6</td>\n",
       "            <td>Azizulhasni Awang</td>\n",
       "            <td>36</td>\n",
       "            <td>85.59</td>\n",
       "            <td>cycling</td>\n",
       "        </tr>\n",
       "        <tr>\n",
       "            <td>7</td>\n",
       "            <td>Mirnawan Nawawi</td>\n",
       "            <td>46</td>\n",
       "            <td>86.22</td>\n",
       "            <td>hockey</td>\n",
       "        </tr>\n",
       "    </tbody>\n",
       "</table>"
      ],
      "text/plain": [
       "[(6, 'Azizulhasni Awang', 36, 85.59, 'cycling'),\n",
       " (7, 'Mirnawan Nawawi', 46, 86.22, 'hockey')]"
      ]
     },
     "execution_count": 14,
     "metadata": {},
     "output_type": "execute_result"
    }
   ],
   "source": [
    "# Selecting rows which their name values containing the letters 'awan'.\n",
    "\n",
    "%%sql\n",
    "\n",
    "SELECT * \n",
    "FROM athletes\n",
    "WHERE name LIKE '%awan%';"
   ]
  },
  {
   "cell_type": "code",
   "execution_count": 15,
   "metadata": {},
   "outputs": [
    {
     "name": "stdout",
     "output_type": "stream",
     "text": [
      " * sqlite://\n",
      "Done.\n"
     ]
    },
    {
     "data": {
      "text/html": [
       "<table>\n",
       "    <thead>\n",
       "        <tr>\n",
       "            <th>id</th>\n",
       "            <th>name</th>\n",
       "            <th>age</th>\n",
       "            <th>rating</th>\n",
       "            <th>sport</th>\n",
       "        </tr>\n",
       "    </thead>\n",
       "    <tbody>\n",
       "        <tr>\n",
       "            <td>1</td>\n",
       "            <td>Nicol David</td>\n",
       "            <td>36</td>\n",
       "            <td>85.59</td>\n",
       "            <td>squash</td>\n",
       "        </tr>\n",
       "    </tbody>\n",
       "</table>"
      ],
      "text/plain": [
       "[(1, 'Nicol David', 36, 85.59, 'squash')]"
      ]
     },
     "execution_count": 15,
     "metadata": {},
     "output_type": "execute_result"
    }
   ],
   "source": [
    "# Selects an athlete who's still in the 30's and plays squash\n",
    "\n",
    "%%sql\n",
    "\n",
    "SELECT *\n",
    "FROM athletes\n",
    "WHERE age BETWEEN 30 AND 39\n",
    "AND sport = 'squash';"
   ]
  },
  {
   "cell_type": "code",
   "execution_count": 16,
   "metadata": {},
   "outputs": [
    {
     "name": "stdout",
     "output_type": "stream",
     "text": [
      " * sqlite://\n",
      "Done.\n"
     ]
    },
    {
     "data": {
      "text/html": [
       "<table>\n",
       "    <thead>\n",
       "        <tr>\n",
       "            <th>id</th>\n",
       "            <th>name</th>\n",
       "            <th>age</th>\n",
       "            <th>rating</th>\n",
       "            <th>sport</th>\n",
       "        </tr>\n",
       "    </thead>\n",
       "    <tbody>\n",
       "        <tr>\n",
       "            <td>6</td>\n",
       "            <td>Azizulhasni Awang</td>\n",
       "            <td>36</td>\n",
       "            <td>85.59</td>\n",
       "            <td>cycling</td>\n",
       "        </tr>\n",
       "        <tr>\n",
       "            <td>3</td>\n",
       "            <td>Lee Chong Wei</td>\n",
       "            <td>36</td>\n",
       "            <td>92.24</td>\n",
       "            <td>badminton</td>\n",
       "        </tr>\n",
       "        <tr>\n",
       "            <td>1</td>\n",
       "            <td>Nicol David</td>\n",
       "            <td>36</td>\n",
       "            <td>85.59</td>\n",
       "            <td>squash</td>\n",
       "        </tr>\n",
       "        <tr>\n",
       "            <td>2</td>\n",
       "            <td>Syazlin Zulkifli</td>\n",
       "            <td>38</td>\n",
       "            <td>88.76</td>\n",
       "            <td>bowling</td>\n",
       "        </tr>\n",
       "    </tbody>\n",
       "</table>"
      ],
      "text/plain": [
       "[(6, 'Azizulhasni Awang', 36, 85.59, 'cycling'),\n",
       " (3, 'Lee Chong Wei', 36, 92.24, 'badminton'),\n",
       " (1, 'Nicol David', 36, 85.59, 'squash'),\n",
       " (2, 'Syazlin Zulkifli', 38, 88.76, 'bowling')]"
      ]
     },
     "execution_count": 16,
     "metadata": {},
     "output_type": "execute_result"
    }
   ],
   "source": [
    "# Selecting an athlete aged less than 40 and having the result ordered alphabetically \n",
    "\n",
    "%%sql\n",
    "\n",
    "SELECT *\n",
    "FROM athletes\n",
    "WHERE age < 40\n",
    "ORDER BY name ASC;"
   ]
  },
  {
   "cell_type": "code",
   "execution_count": 17,
   "metadata": {},
   "outputs": [
    {
     "name": "stdout",
     "output_type": "stream",
     "text": [
      " * sqlite://\n",
      "Done.\n"
     ]
    },
    {
     "data": {
      "text/html": [
       "<table>\n",
       "    <thead>\n",
       "        <tr>\n",
       "            <th>id</th>\n",
       "            <th>name</th>\n",
       "            <th>age</th>\n",
       "            <th>rating</th>\n",
       "            <th>sport</th>\n",
       "            <th>status</th>\n",
       "        </tr>\n",
       "    </thead>\n",
       "    <tbody>\n",
       "        <tr>\n",
       "            <td>1</td>\n",
       "            <td>Nicol David</td>\n",
       "            <td>36</td>\n",
       "            <td>85.59</td>\n",
       "            <td>squash</td>\n",
       "            <td>Active</td>\n",
       "        </tr>\n",
       "        <tr>\n",
       "            <td>2</td>\n",
       "            <td>Syazlin Zulkifli</td>\n",
       "            <td>38</td>\n",
       "            <td>88.76</td>\n",
       "            <td>bowling</td>\n",
       "            <td>Active</td>\n",
       "        </tr>\n",
       "        <tr>\n",
       "            <td>3</td>\n",
       "            <td>Lee Chong Wei</td>\n",
       "            <td>36</td>\n",
       "            <td>92.24</td>\n",
       "            <td>badminton</td>\n",
       "            <td>Active</td>\n",
       "        </tr>\n",
       "        <tr>\n",
       "            <td>5</td>\n",
       "            <td>Wong Choong Hann</td>\n",
       "            <td>47</td>\n",
       "            <td>85.59</td>\n",
       "            <td>badminton</td>\n",
       "            <td>Retired</td>\n",
       "        </tr>\n",
       "        <tr>\n",
       "            <td>6</td>\n",
       "            <td>Azizulhasni Awang</td>\n",
       "            <td>36</td>\n",
       "            <td>85.59</td>\n",
       "            <td>cycling</td>\n",
       "            <td>Active</td>\n",
       "        </tr>\n",
       "        <tr>\n",
       "            <td>7</td>\n",
       "            <td>Mirnawan Nawawi</td>\n",
       "            <td>46</td>\n",
       "            <td>86.22</td>\n",
       "            <td>hockey</td>\n",
       "            <td>Semi-Retired</td>\n",
       "        </tr>\n",
       "    </tbody>\n",
       "</table>"
      ],
      "text/plain": [
       "[(1, 'Nicol David', 36, 85.59, 'squash', 'Active'),\n",
       " (2, 'Syazlin Zulkifli', 38, 88.76, 'bowling', 'Active'),\n",
       " (3, 'Lee Chong Wei', 36, 92.24, 'badminton', 'Active'),\n",
       " (5, 'Wong Choong Hann', 47, 85.59, 'badminton', 'Retired'),\n",
       " (6, 'Azizulhasni Awang', 36, 85.59, 'cycling', 'Active'),\n",
       " (7, 'Mirnawan Nawawi', 46, 86.22, 'hockey', 'Semi-Retired')]"
      ]
     },
     "execution_count": 17,
     "metadata": {},
     "output_type": "execute_result"
    }
   ],
   "source": [
    "# Creating a new output based on the current dataset\n",
    "\n",
    "%%sql\n",
    "\n",
    "select *,\n",
    "  case\n",
    "  when age > 46 then 'Retired'\n",
    "  when age < 40 then 'Active'\n",
    "  else 'Semi-Retired'\n",
    "  end as 'status'\n",
    "from athletes;"
   ]
  },
  {
   "cell_type": "code",
   "execution_count": 18,
   "metadata": {},
   "outputs": [
    {
     "name": "stdout",
     "output_type": "stream",
     "text": [
      " * sqlite://\n",
      "Done.\n"
     ]
    },
    {
     "data": {
      "text/html": [
       "<table>\n",
       "    <thead>\n",
       "        <tr>\n",
       "            <th>count(*)</th>\n",
       "        </tr>\n",
       "    </thead>\n",
       "    <tbody>\n",
       "        <tr>\n",
       "            <td>2</td>\n",
       "        </tr>\n",
       "    </tbody>\n",
       "</table>"
      ],
      "text/plain": [
       "[(2,)]"
      ]
     },
     "execution_count": 18,
     "metadata": {},
     "output_type": "execute_result"
    }
   ],
   "source": [
    "# Counting the number of badminton values in the sport column\n",
    "\n",
    "%%sql\n",
    "\n",
    "SELECT count(*) FROM athletes\n",
    "WHERE sport = 'badminton';"
   ]
  },
  {
   "cell_type": "code",
   "execution_count": 19,
   "metadata": {},
   "outputs": [
    {
     "name": "stdout",
     "output_type": "stream",
     "text": [
      " * sqlite://\n",
      "Done.\n"
     ]
    },
    {
     "data": {
      "text/html": [
       "<table>\n",
       "    <thead>\n",
       "        <tr>\n",
       "            <th>AVG(age)</th>\n",
       "        </tr>\n",
       "    </thead>\n",
       "    <tbody>\n",
       "        <tr>\n",
       "            <td>39.833333333333336</td>\n",
       "        </tr>\n",
       "    </tbody>\n",
       "</table>"
      ],
      "text/plain": [
       "[(39.833333333333336,)]"
      ]
     },
     "execution_count": 19,
     "metadata": {},
     "output_type": "execute_result"
    }
   ],
   "source": [
    "# Finding the average age of all the athletes\n",
    "\n",
    "%%sql\n",
    "\n",
    "SELECT AVG(age) FROM athletes;"
   ]
  },
  {
   "cell_type": "code",
   "execution_count": 20,
   "metadata": {},
   "outputs": [
    {
     "name": "stdout",
     "output_type": "stream",
     "text": [
      " * sqlite://\n",
      "Done.\n"
     ]
    },
    {
     "data": {
      "text/html": [
       "<table>\n",
       "    <thead>\n",
       "        <tr>\n",
       "            <th>max(age)</th>\n",
       "        </tr>\n",
       "    </thead>\n",
       "    <tbody>\n",
       "        <tr>\n",
       "            <td>47</td>\n",
       "        </tr>\n",
       "    </tbody>\n",
       "</table>"
      ],
      "text/plain": [
       "[(47,)]"
      ]
     },
     "execution_count": 20,
     "metadata": {},
     "output_type": "execute_result"
    }
   ],
   "source": [
    "# Selecting the oldest age among the athletes\n",
    "\n",
    "%%sql\n",
    "\n",
    "SELECT max(age) FROM athletes;"
   ]
  },
  {
   "cell_type": "code",
   "execution_count": 21,
   "metadata": {},
   "outputs": [
    {
     "name": "stdout",
     "output_type": "stream",
     "text": [
      " * sqlite://\n",
      "Done.\n"
     ]
    },
    {
     "data": {
      "text/html": [
       "<table>\n",
       "    <thead>\n",
       "        <tr>\n",
       "            <th>ROUND(AVG(age), 2)</th>\n",
       "        </tr>\n",
       "    </thead>\n",
       "    <tbody>\n",
       "        <tr>\n",
       "            <td>39.83</td>\n",
       "        </tr>\n",
       "    </tbody>\n",
       "</table>"
      ],
      "text/plain": [
       "[(39.83,)]"
      ]
     },
     "execution_count": 21,
     "metadata": {},
     "output_type": "execute_result"
    }
   ],
   "source": [
    "# Having the average age value obtained, rounded to a desired value\n",
    "\n",
    "%%sql\n",
    "\n",
    "SELECT ROUND(AVG(age), 2)\n",
    "FROM athletes;"
   ]
  },
  {
   "cell_type": "code",
   "execution_count": 22,
   "metadata": {},
   "outputs": [
    {
     "name": "stdout",
     "output_type": "stream",
     "text": [
      " * sqlite://\n",
      "Done.\n"
     ]
    },
    {
     "data": {
      "text/html": [
       "<table>\n",
       "    <thead>\n",
       "        <tr>\n",
       "            <th>rating</th>\n",
       "            <th>COUNT(*)</th>\n",
       "        </tr>\n",
       "    </thead>\n",
       "    <tbody>\n",
       "        <tr>\n",
       "            <td>85.59</td>\n",
       "            <td>3</td>\n",
       "        </tr>\n",
       "        <tr>\n",
       "            <td>86.22</td>\n",
       "            <td>1</td>\n",
       "        </tr>\n",
       "        <tr>\n",
       "            <td>88.76</td>\n",
       "            <td>1</td>\n",
       "        </tr>\n",
       "        <tr>\n",
       "            <td>92.24</td>\n",
       "            <td>1</td>\n",
       "        </tr>\n",
       "    </tbody>\n",
       "</table>"
      ],
      "text/plain": [
       "[(85.59, 3), (86.22, 1), (88.76, 1), (92.24, 1)]"
      ]
     },
     "execution_count": 22,
     "metadata": {},
     "output_type": "execute_result"
    }
   ],
   "source": [
    "# Counting all rating values and group them by each rating \n",
    "\n",
    "%%sql\n",
    "\n",
    "SELECT rating, COUNT(*)\n",
    "FROM athletes\n",
    "GROUP BY 1;"
   ]
  }
 ],
 "metadata": {
  "kernelspec": {
   "display_name": "Python",
   "language": "python",
   "name": "conda-env-python-py"
  },
  "language_info": {
   "codemirror_mode": {
    "name": "ipython",
    "version": 3
   },
   "file_extension": ".py",
   "mimetype": "text/x-python",
   "name": "python",
   "nbconvert_exporter": "python",
   "pygments_lexer": "ipython3",
   "version": "3.6.12"
  }
 },
 "nbformat": 4,
 "nbformat_minor": 4
}
